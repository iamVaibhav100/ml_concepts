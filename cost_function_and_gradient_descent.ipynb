{
 "cells": [
  {
   "cell_type": "markdown",
   "id": "22e9263a",
   "metadata": {},
   "source": [
    "## Cost function and Gradient descent\n",
    "Understanding cost functions and gradient descent using a simple Linear regression model"
   ]
  },
  {
   "cell_type": "code",
   "execution_count": 1,
   "id": "1b061194",
   "metadata": {},
   "outputs": [],
   "source": [
    "import numpy as np\n",
    "import pandas as pd\n",
    "import matplotlib.pyplot as plt"
   ]
  },
  {
   "cell_type": "code",
   "execution_count": 2,
   "id": "f5147364",
   "metadata": {},
   "outputs": [],
   "source": [
    "n = 200 # number of observations\n",
    "bias = 4\n",
    "slope = 3.5"
   ]
  },
  {
   "cell_type": "code",
   "execution_count": 3,
   "id": "ecd74448",
   "metadata": {},
   "outputs": [],
   "source": [
    "x = np.random.normal(0, 2, n)\n",
    "x_b = np.column_stack((x, np.ones(n)))\n",
    "y = bias + slope*x + np.random.normal(0, 1, n)\n",
    "df = pd.DataFrame({'x':x, 'y':y})"
   ]
  },
  {
   "cell_type": "code",
   "execution_count": 4,
   "id": "c58a389e",
   "metadata": {},
   "outputs": [],
   "source": [
    "learning_rate = 0.05\n",
    "n_iterations = 100\n",
    "theta = np.array([20, 20])"
   ]
  },
  {
   "cell_type": "code",
   "execution_count": 5,
   "id": "8ec075f4",
   "metadata": {},
   "outputs": [],
   "source": [
    "b0 = np.zeros(n_iterations)\n",
    "b1 = np.zeros(n_iterations)\n",
    "sse_i = np.zeros(n_iterations)\n",
    "for iteration in range(n_iterations): \n",
    "    yhat = x_b.dot(theta) # predict using weights in theta\n",
    "    residuals_b = yhat - y # calculate the residuals\n",
    "    gradients = 2/n * x_b.T.dot(residuals_b) # calculate the gradients of MSE w.r.t model weights \n",
    "    theta = theta - learning_rate * gradients # update theta \n",
    "\n",
    "    sse_i[iteration] = np.sum((y - x_b.dot(theta))**2)\n",
    "    b0[iteration] = theta[1]\n",
    "    b1[iteration] = theta[0]"
   ]
  },
  {
   "cell_type": "code",
   "execution_count": 6,
   "id": "28eb4f01",
   "metadata": {},
   "outputs": [],
   "source": [
    "model_i = pd.DataFrame({'model_iter':np.arange(1, n_iterations+1), \n",
    "                       'sse':sse_i, \n",
    "                       'b0':b0, \n",
    "                       'b1':b1})"
   ]
  },
  {
   "cell_type": "code",
   "execution_count": 11,
   "id": "979c4a64",
   "metadata": {},
   "outputs": [
    {
     "data": {
      "text/html": [
       "<div>\n",
       "<style scoped>\n",
       "    .dataframe tbody tr th:only-of-type {\n",
       "        vertical-align: middle;\n",
       "    }\n",
       "\n",
       "    .dataframe tbody tr th {\n",
       "        vertical-align: top;\n",
       "    }\n",
       "\n",
       "    .dataframe thead th {\n",
       "        text-align: right;\n",
       "    }\n",
       "</style>\n",
       "<table border=\"1\" class=\"dataframe\">\n",
       "  <thead>\n",
       "    <tr style=\"text-align: right;\">\n",
       "      <th></th>\n",
       "      <th>model_iter</th>\n",
       "      <th>sse</th>\n",
       "      <th>b0</th>\n",
       "      <th>b1</th>\n",
       "    </tr>\n",
       "  </thead>\n",
       "  <tbody>\n",
       "    <tr>\n",
       "      <th>0</th>\n",
       "      <td>1</td>\n",
       "      <td>121787.234032</td>\n",
       "      <td>18.193009</td>\n",
       "      <td>13.144496</td>\n",
       "    </tr>\n",
       "    <tr>\n",
       "      <th>1</th>\n",
       "      <td>2</td>\n",
       "      <td>60393.328169</td>\n",
       "      <td>16.655365</td>\n",
       "      <td>9.080298</td>\n",
       "    </tr>\n",
       "    <tr>\n",
       "      <th>2</th>\n",
       "      <td>3</td>\n",
       "      <td>35383.077458</td>\n",
       "      <td>15.324040</td>\n",
       "      <td>6.676921</td>\n",
       "    </tr>\n",
       "    <tr>\n",
       "      <th>3</th>\n",
       "      <td>4</td>\n",
       "      <td>23893.148589</td>\n",
       "      <td>14.156925</td>\n",
       "      <td>5.261134</td>\n",
       "    </tr>\n",
       "    <tr>\n",
       "      <th>4</th>\n",
       "      <td>5</td>\n",
       "      <td>17695.209816</td>\n",
       "      <td>13.124829</td>\n",
       "      <td>4.432069</td>\n",
       "    </tr>\n",
       "    <tr>\n",
       "      <th>...</th>\n",
       "      <td>...</td>\n",
       "      <td>...</td>\n",
       "      <td>...</td>\n",
       "      <td>...</td>\n",
       "    </tr>\n",
       "    <tr>\n",
       "      <th>95</th>\n",
       "      <td>96</td>\n",
       "      <td>181.908248</td>\n",
       "      <td>4.060326</td>\n",
       "      <td>3.531100</td>\n",
       "    </tr>\n",
       "    <tr>\n",
       "      <th>96</th>\n",
       "      <td>97</td>\n",
       "      <td>181.908232</td>\n",
       "      <td>4.060261</td>\n",
       "      <td>3.531103</td>\n",
       "    </tr>\n",
       "    <tr>\n",
       "      <th>97</th>\n",
       "      <td>98</td>\n",
       "      <td>181.908219</td>\n",
       "      <td>4.060202</td>\n",
       "      <td>3.531105</td>\n",
       "    </tr>\n",
       "    <tr>\n",
       "      <th>98</th>\n",
       "      <td>99</td>\n",
       "      <td>181.908209</td>\n",
       "      <td>4.060150</td>\n",
       "      <td>3.531107</td>\n",
       "    </tr>\n",
       "    <tr>\n",
       "      <th>99</th>\n",
       "      <td>100</td>\n",
       "      <td>181.908200</td>\n",
       "      <td>4.060102</td>\n",
       "      <td>3.531109</td>\n",
       "    </tr>\n",
       "  </tbody>\n",
       "</table>\n",
       "<p>100 rows × 4 columns</p>\n",
       "</div>"
      ],
      "text/plain": [
       "    model_iter            sse         b0         b1\n",
       "0            1  121787.234032  18.193009  13.144496\n",
       "1            2   60393.328169  16.655365   9.080298\n",
       "2            3   35383.077458  15.324040   6.676921\n",
       "3            4   23893.148589  14.156925   5.261134\n",
       "4            5   17695.209816  13.124829   4.432069\n",
       "..         ...            ...        ...        ...\n",
       "95          96     181.908248   4.060326   3.531100\n",
       "96          97     181.908232   4.060261   3.531103\n",
       "97          98     181.908219   4.060202   3.531105\n",
       "98          99     181.908209   4.060150   3.531107\n",
       "99         100     181.908200   4.060102   3.531109\n",
       "\n",
       "[100 rows x 4 columns]"
      ]
     },
     "execution_count": 11,
     "metadata": {},
     "output_type": "execute_result"
    }
   ],
   "source": [
    "model_i"
   ]
  },
  {
   "cell_type": "code",
   "execution_count": 7,
   "id": "8a8af3b4",
   "metadata": {},
   "outputs": [
    {
     "data": {
      "image/png": "[encoded data removed]",
      "text/plain": [
       "<Figure size 432x288 with 1 Axes>"
      ]
     },
     "metadata": {
      "needs_background": "light"
     },
     "output_type": "display_data"
    }
   ],
   "source": [
    "plt.scatter(df.x, df.y, alpha=0.4)\n",
    "plt.plot(df.x, b0[-1] + b1[-1]*df.x, color='dodgerblue', alpha=0.5, linewidth=2)\n",
    "plt.plot(df.x, b0[0] + b1[0]*df.x, color='red', alpha=0.5, linewidth=2)\n",
    "plt.xlabel('x')\n",
    "plt.ylabel('y')\n",
    "plt.show()"
   ]
  },
  {
   "cell_type": "markdown",
   "id": "c4a46a96",
   "metadata": {},
   "source": [
    "After the model learns:"
   ]
  },
  {
   "cell_type": "code",
   "execution_count": 14,
   "id": "2af55a06",
   "metadata": {},
   "outputs": [
    {
     "data": {
      "image/png": "[encoded data removed]",
      "text/plain": [
       "<Figure size 432x288 with 1 Axes>"
      ]
     },
     "metadata": {
      "needs_background": "light"
     },
     "output_type": "display_data"
    }
   ],
   "source": [
    "plt.scatter(df.x, df.y, alpha=0.4)\n",
    "plt.plot(df.x, theta[1] + theta[0]*df.x, color='red', linewidth=2)\n",
    "plt.xlabel('x')\n",
    "plt.ylabel('y')\n",
    "plt.show()"
   ]
  },
  {
   "cell_type": "code",
   "execution_count": 8,
   "id": "867c463a",
   "metadata": {},
   "outputs": [
    {
     "data": {
      "image/png": "[encoded data removed]",
      "text/plain": [
       "<Figure size 432x288 with 1 Axes>"
      ]
     },
     "metadata": {
      "needs_background": "light"
     },
     "output_type": "display_data"
    }
   ],
   "source": [
    "plt.plot(model_i.model_iter, model_i.sse, color='dodgerblue', alpha=0.5)\n",
    "plt.xlabel('Model iteration')\n",
    "plt.ylabel('Sum of Squared errors')\n",
    "plt.show()"
   ]
  },
  {
   "cell_type": "code",
   "execution_count": 9,
   "id": "9729c9d3",
   "metadata": {},
   "outputs": [],
   "source": [
    "def predict_from_theta(x):\n",
    "    x_b = np.column_stack((x, np.ones(len(x))))\n",
    "    return x_b.dot(theta)"
   ]
  },
  {
   "cell_type": "code",
   "execution_count": 10,
   "id": "ec6efa22",
   "metadata": {},
   "outputs": [
    {
     "name": "stdout",
     "output_type": "stream",
     "text": [
      "[ 1.33657774 -2.14898848 -0.777693   10.37481217  0.57224831  9.50238521\n",
      "  1.02686542  4.44447135  6.23726079  0.7112235 ]\n"
     ]
    }
   ],
   "source": [
    "print(predict_from_theta(np.random.normal(0, 1, 10)))"
   ]
  },
  {
   "cell_type": "code",
   "execution_count": null,
   "id": "b0d9893c",
   "metadata": {},
   "outputs": [],
   "source": []
  }
 ],
 "metadata": {
  "kernelspec": {
   "display_name": "Python 3 (ipykernel)",
   "language": "python",
   "name": "python3"
  },
  "language_info": {
   "codemirror_mode": {
    "name": "ipython",
    "version": 3
   },
   "file_extension": ".py",
   "mimetype": "text/x-python",
   "name": "python",
   "nbconvert_exporter": "python",
   "pygments_lexer": "ipython3",
   "version": "3.9.11"
  }
 },
 "nbformat": 4,
 "nbformat_minor": 5
}
