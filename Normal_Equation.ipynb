{
 "cells": [
  {
   "cell_type": "markdown",
   "id": "0cf4bee1",
   "metadata": {},
   "source": [
    "# Normal Equation\n",
    "The Normal Equation is a closed-form solution to find the optimal parameters (weights) of a linear regression model. It provides a direct method to calculate the parameters that minimize the cost function without using an iterative algorithm like gradient descent.\n",
    "\n",
    "The Normal Equation can be expressed mathematically as:\n",
    "\n",
    "θ = (X^T X)^-1 X^T y\n",
    "\n",
    "Where:\n",
    " - θ is the vector of parameters (weights) to be optimized\n",
    " - X is the matrix of input features (including a column of ones for the intercept term)\n",
    " - y is the vector of target values (output)\n",
    " - X^T is the transpose of X\n",
    " - (X^T X)^-1 is the inverse of the matrix product X^T X"
   ]
  },
  {
   "cell_type": "code",
   "execution_count": 3,
   "id": "4c59df33",
   "metadata": {},
   "outputs": [],
   "source": [
    "import numpy as np\n",
    "import matplotlib.pyplot as plt"
   ]
  },
  {
   "cell_type": "code",
   "execution_count": 2,
   "id": "21a6838f",
   "metadata": {},
   "outputs": [],
   "source": [
    "class LinearRegression:\n",
    "    \n",
    "    def fit_normal_equation(self, X, y):\n",
    "        X = np.hstack((np.ones((X.shape[0], 1)), X))  # add intercept term\n",
    "        theta = np.linalg.inv(X.T @ X) @ X.T @ y\n",
    "        self.intercept_ = theta[0]\n",
    "        self.coef_ = theta[1:]\n",
    "    \n",
    "    def fit_gradient_descent(self, X, y, learning_rate=0.01, max_iter=1000):\n",
    "        X = np.hstack((np.ones((X.shape[0], 1)), X))  # add intercept term\n",
    "        theta = np.zeros(X.shape[1])\n",
    "        for i in range(max_iter):\n",
    "            gradient = X.T @ (X @ theta - y)\n",
    "            theta -= learning_rate * gradient\n",
    "        self.intercept_ = theta[0]\n",
    "        self.coef_ = theta[1:]\n"
   ]
  },
  {
   "cell_type": "code",
   "execution_count": 4,
   "id": "1b9d77de",
   "metadata": {},
   "outputs": [],
   "source": [
    "# generate random data\n",
    "np.random.seed(0)\n",
    "X = np.random.randn(100, 1)\n",
    "y = 2 * X[:, 0] + 1 + np.random.randn(100)"
   ]
  },
  {
   "cell_type": "code",
   "execution_count": 5,
   "id": "b7fa080a",
   "metadata": {},
   "outputs": [
    {
     "name": "stdout",
     "output_type": "stream",
     "text": [
      "Normal Equation:\n",
      "Intercept: 1.0751530850525146\n",
      "Coefficients: [2.11469843]\n"
     ]
    }
   ],
   "source": [
    "# fit using Normal Equation\n",
    "lr = LinearRegression()\n",
    "lr.fit_normal_equation(X, y)\n",
    "print(\"Normal Equation:\")\n",
    "print(\"Intercept:\", lr.intercept_)\n",
    "print(\"Coefficients:\", lr.coef_)"
   ]
  },
  {
   "cell_type": "code",
   "execution_count": 6,
   "id": "e66446f6",
   "metadata": {},
   "outputs": [
    {
     "name": "stdout",
     "output_type": "stream",
     "text": [
      "Gradient Descent:\n",
      "Intercept: 1.0751530850525142\n",
      "Coefficients: [2.11469843]\n"
     ]
    }
   ],
   "source": [
    "# fit using Gradient Descent\n",
    "lr = LinearRegression()\n",
    "lr.fit_gradient_descent(X, y)\n",
    "print(\"Gradient Descent:\")\n",
    "print(\"Intercept:\", lr.intercept_)\n",
    "print(\"Coefficients:\", lr.coef_)"
   ]
  },
  {
   "cell_type": "code",
   "execution_count": 7,
   "id": "e09530c9",
   "metadata": {},
   "outputs": [
    {
     "data": {
      "image/png": "[encoded data removed]",
      "text/plain": [
       "<Figure size 432x288 with 1 Axes>"
      ]
     },
     "metadata": {
      "needs_background": "light"
     },
     "output_type": "display_data"
    }
   ],
   "source": [
    "# plot data and linear regression line\n",
    "plt.scatter(X, y)\n",
    "plt.plot(X, lr.intercept_ + lr.coef_ * X, color='red')\n",
    "plt.show()"
   ]
  },
  {
   "cell_type": "code",
   "execution_count": null,
   "id": "23c0f9f7",
   "metadata": {},
   "outputs": [],
   "source": []
  }
 ],
 "metadata": {
  "kernelspec": {
   "display_name": "Python 3 (ipykernel)",
   "language": "python",
   "name": "python3"
  },
  "language_info": {
   "codemirror_mode": {
    "name": "ipython",
    "version": 3
   },
   "file_extension": ".py",
   "mimetype": "text/x-python",
   "name": "python",
   "nbconvert_exporter": "python",
   "pygments_lexer": "ipython3",
   "version": "3.9.11"
  }
 },
 "nbformat": 4,
 "nbformat_minor": 5
}
